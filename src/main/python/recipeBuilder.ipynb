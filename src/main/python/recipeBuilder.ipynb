{
 "cells": [
  {
   "metadata": {
    "ExecuteTime": {
     "end_time": "2024-06-02T00:29:09.291235Z",
     "start_time": "2024-06-02T00:29:09.287408Z"
    }
   },
   "cell_type": "code",
   "source": [
    "import numpy as np\n",
    "from ortools.sat.python import cp_model\n",
    "\n",
    "\n",
    "NUM_MEALS = 5\n",
    "MEAL_TYPES = ['breakfast', 'dinner', 'lunch', 'snack']\n",
    "REQUIRED_MEALS = [1, 1, 1, 2]\n",
    "TARGET_CALORIES = 2_000\n",
    "TOLERANCE = 50"
   ],
   "id": "initial_id",
   "outputs": [],
   "execution_count": 7
  },
  {
   "metadata": {
    "ExecuteTime": {
     "end_time": "2024-06-02T00:29:09.304711Z",
     "start_time": "2024-06-02T00:29:09.293200Z"
    }
   },
   "cell_type": "code",
   "source": [
    "def make_random_meal_options():\n",
    "    options = []\n",
    "\n",
    "    for _ in range(200):\n",
    "        calories = np.random.randint(100, 1_000)\n",
    "        num_types = np.random.randint(1, len(MEAL_TYPES))\n",
    "        types = np.random.choice(MEAL_TYPES, num_types, replace=False)\n",
    "\n",
    "        options.append(dict(calories=calories, types=types,name='belveta'))\n",
    "\n",
    "    # List of dictionaries with keys 'calories' and 'types'\n",
    "    return options\n",
    "\n",
    "meal_options = make_random_meal_options()"
   ],
   "id": "325a06efd0713430",
   "outputs": [],
   "execution_count": 8
  },
  {
   "metadata": {
    "ExecuteTime": {
     "end_time": "2024-06-02T00:29:09.342245Z",
     "start_time": "2024-06-02T00:29:09.333857Z"
    }
   },
   "cell_type": "code",
   "source": [
    "\n",
    "\n",
    "calories = np.array([option['calories'] for option in meal_options])\n",
    "\n",
    "# Element (i, j) == True iff meal i has meal type j, and False otherwise.\n",
    "meal_types = np.empty((len(meal_options), len(MEAL_TYPES)), dtype=bool)\n",
    "\n",
    "for i, option in enumerate(meal_options):\n",
    "    for j, meal_type in enumerate(MEAL_TYPES):\n",
    "        meal_types[i, j] = meal_type in option['types']"
   ],
   "id": "88227cd852d3fd1b",
   "outputs": [],
   "execution_count": 9
  },
  {
   "metadata": {
    "ExecuteTime": {
     "end_time": "2024-06-02T00:29:09.390379Z",
     "start_time": "2024-06-02T00:29:09.353097Z"
    }
   },
   "cell_type": "code",
   "source": [
    "\n",
    "model = cp_model.CpModel()\n",
    "\n",
    "# Decision variables, one for each meal and meal type: meal[i, j] is 1 iff\n",
    "# meal i is assigned to meal type j, and 0 otherwise.\n",
    "meal_vars = np.empty((len(meal_options), len(MEAL_TYPES)), dtype=object)\n",
    "\n",
    "for i in range(len(meal_options)):\n",
    "    for j in range(len(MEAL_TYPES)):\n",
    "        meal_vars[i, j] = model.NewBoolVar(f\"meal[{i}, {j}]\")\n",
    "\n",
    "# We want the overall caloric value of the meal plan to be within bounds.\n",
    "lb, ub = [TARGET_CALORIES - TOLERANCE, TARGET_CALORIES + TOLERANCE]\n",
    "model.AddLinearConstraint(calories @ meal_vars.sum(axis=1), lb, ub)\n",
    "\n",
    "for j, meal_type in enumerate(MEAL_TYPES):\n",
    "    # Need the required amount of meals of each type.\n",
    "    model.Add(meal_types[:, j] @ meal_vars[:, j] == REQUIRED_MEALS[j])\n",
    "\n",
    "for i in range(len(meal_options)):\n",
    "    # Each meal can only be selected once across all meal types.\n",
    "    model.Add(meal_vars[i, :].sum() <= 1)\n",
    "\n",
    "# Need NUM_MEALS meals in the meal plan\n",
    "model.Add(meal_vars.sum() == NUM_MEALS)\n",
    "\n",
    "solver = cp_model.CpSolver()\n",
    "status = solver.Solve(model)\n",
    "\n",
    "if status == cp_model.OPTIMAL or status == cp_model.FEASIBLE:\n",
    "    print(f\"Solving took {solver.WallTime():.2f} seconds\")\n",
    "\n",
    "    for i in range(len(meal_options)):\n",
    "        for j in range(len(MEAL_TYPES)):\n",
    "            if solver.Value(meal_vars[i, j]) > 0:\n",
    "                option = meal_options[i]\n",
    "                cal = option['calories']\n",
    "                mt = MEAL_TYPES[j]\n",
    "\n",
    "                print(f\"Selected meal {option['name']} {i} with {cal} calories for {mt}.\")\n",
    "else:\n",
    "    print(\"No solution found.\")"
   ],
   "id": "f896a58b4eee4697",
   "outputs": [
    {
     "name": "stdout",
     "output_type": "stream",
     "text": [
      "Solving took 0.01 seconds\n",
      "Selected meal belveta 92 with 339 calories for snack.\n",
      "Selected meal belveta 97 with 257 calories for breakfast.\n",
      "Selected meal belveta 132 with 119 calories for snack.\n",
      "Selected meal belveta 143 with 857 calories for lunch.\n",
      "Selected meal belveta 161 with 456 calories for dinner.\n"
     ]
    }
   ],
   "execution_count": 10
  }
 ],
 "metadata": {
  "kernelspec": {
   "display_name": "Python 3",
   "language": "python",
   "name": "python3"
  },
  "language_info": {
   "codemirror_mode": {
    "name": "ipython",
    "version": 2
   },
   "file_extension": ".py",
   "mimetype": "text/x-python",
   "name": "python",
   "nbconvert_exporter": "python",
   "pygments_lexer": "ipython2",
   "version": "2.7.6"
  }
 },
 "nbformat": 4,
 "nbformat_minor": 5
}
